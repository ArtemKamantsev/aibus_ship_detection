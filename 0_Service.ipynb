{
 "cells": [
  {
   "cell_type": "code",
   "execution_count": 1,
   "outputs": [],
   "source": [
    "import os\n",
    "from glob import glob\n",
    "from os.path import join, split, splitext\n",
    "from shutil import move\n",
    "\n",
    "import cv2 as cv\n",
    "import matplotlib.pyplot as plt\n",
    "import numpy as np\n",
    "import pandas as pd\n",
    "from tqdm.notebook import tqdm"
   ],
   "metadata": {
    "collapsed": false,
    "ExecuteTime": {
     "end_time": "2023-12-13T19:05:30.954738502Z",
     "start_time": "2023-12-13T19:05:30.123481602Z"
    }
   },
   "id": "de842baa97512442"
  },
  {
   "cell_type": "markdown",
   "source": [
    "# Split images to folders\n",
    "(because of Ubuntu)"
   ],
   "metadata": {
    "collapsed": false
   },
   "id": "d6b412cd6c3b812e"
  },
  {
   "cell_type": "code",
   "execution_count": 2,
   "id": "initial_id",
   "metadata": {
    "collapsed": true,
    "ExecuteTime": {
     "end_time": "2023-12-03T17:16:42.200919881Z",
     "start_time": "2023-12-03T17:16:39.782402556Z"
    }
   },
   "outputs": [
    {
     "data": {
      "text/plain": "  0%|          | 0/8 [00:00<?, ?it/s]",
      "application/vnd.jupyter.widget-view+json": {
       "version_major": 2,
       "version_minor": 0,
       "model_id": "1749f6df0ec24c4fbbe0a81bf4092d79"
      }
     },
     "metadata": {},
     "output_type": "display_data"
    }
   ],
   "source": [
    "chunk_size = 2500\n",
    "folder_path = '../data/train_unique_cropped/train_val2'\n",
    "file_name_list = os.listdir(folder_path)\n",
    "for start_idx in tqdm(range(0, len(file_name_list), chunk_size)):\n",
    "    sub_folder_path = join(folder_path, str(start_idx))\n",
    "    os.makedirs(sub_folder_path)\n",
    "    for img_name in file_name_list[start_idx: start_idx + chunk_size]:\n",
    "        move(join(folder_path, img_name), sub_folder_path)"
   ]
  },
  {
   "cell_type": "markdown",
   "source": [
    "# Convert run length encoding to image labels"
   ],
   "metadata": {
    "collapsed": false
   },
   "id": "d49cf78defd13262"
  },
  {
   "cell_type": "code",
   "execution_count": null,
   "outputs": [],
   "source": [
    "def encoding_to_label(encoding_run_length, image_shape):\n",
    "    label = np.zeros(image_shape, dtype=np.uint8)\n",
    "    if type(encoding_run_length) is float:\n",
    "        return label\n",
    "\n",
    "    if type(encoding_run_length) is pd.Series:\n",
    "        for encoding in encoding_run_length:\n",
    "            label += encoding_to_label(encoding, image_shape)\n",
    "\n",
    "        return label\n",
    "\n",
    "    if type(encoding_run_length) is not list or len(encoding_run_length) % 2 == 1:\n",
    "        raise Exception('invalid encoding')\n",
    "\n",
    "    for idx in range(0, len(encoding_run_length), 2):\n",
    "        start_idx = encoding_run_length[idx] - 1\n",
    "        for add_idx in range(encoding_run_length[idx + 1]):\n",
    "            x = (start_idx + add_idx) // image_shape[0]\n",
    "            y = (start_idx + add_idx) % image_shape[0]\n",
    "            label[y, x] = 255\n",
    "\n",
    "    return label\n",
    "\n",
    "\n",
    "def show(img: np.ndarray, dpi: int = 300, convert_rgb: bool = True) -> None:\n",
    "    if convert_rgb:\n",
    "        img = cv.cvtColor(img, cv.COLOR_BGR2RGB)\n",
    "    plt.figure(dpi=dpi)\n",
    "    plt.imshow(img)\n",
    "    plt.show()"
   ],
   "metadata": {
    "collapsed": false
   },
   "id": "58a5faafb99056dd"
  },
  {
   "cell_type": "code",
   "execution_count": null,
   "outputs": [],
   "source": [
    "df = pd.read_csv('./data/train_ship_segmentations_v2.csv', index_col=0)\n",
    "df['EncodedPixels'] = df['EncodedPixels'].map(lambda it: [int(n) for n in it.split()] if not pd.isna(it) else np.nan)\n",
    "df.head()"
   ],
   "metadata": {
    "collapsed": false
   },
   "id": "aad2abb8afc30c07"
  },
  {
   "cell_type": "code",
   "execution_count": null,
   "outputs": [],
   "source": [
    "folder_path = './data/train'\n",
    "for img_path in tqdm(glob(join(folder_path, '*', '*.jpg'), recursive=True)):\n",
    "    if '.png' in img_path:\n",
    "        continue\n",
    "    img_path_base, img_name = split(img_path)\n",
    "    img_name_base = splitext(img_name)[0]\n",
    "    encoding = df.loc[img_name]['EncodedPixels']\n",
    "    img = cv.imread(img_path)\n",
    "    label = encoding_to_label(encoding, img.shape)\n",
    "    cv.imwrite(join(img_path_base, f'{img_name_base}.png'), label)"
   ],
   "metadata": {
    "collapsed": false
   },
   "id": "14c01e6f51668f16"
  }
 ],
 "metadata": {
  "kernelspec": {
   "display_name": "Python 3",
   "language": "python",
   "name": "python3"
  },
  "language_info": {
   "codemirror_mode": {
    "name": "ipython",
    "version": 2
   },
   "file_extension": ".py",
   "mimetype": "text/x-python",
   "name": "python",
   "nbconvert_exporter": "python",
   "pygments_lexer": "ipython2",
   "version": "2.7.6"
  }
 },
 "nbformat": 4,
 "nbformat_minor": 5
}
