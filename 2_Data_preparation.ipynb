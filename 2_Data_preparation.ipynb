{
 "cells": [
  {
   "cell_type": "code",
   "execution_count": 1,
   "id": "initial_id",
   "metadata": {
    "collapsed": true,
    "ExecuteTime": {
     "end_time": "2023-12-13T19:05:46.078932697Z",
     "start_time": "2023-12-13T19:05:44.842861700Z"
    }
   },
   "outputs": [],
   "source": [
    "import json\n",
    "from glob import glob\n",
    "from itertools import chain\n",
    "from os.path import splitext, split, join\n",
    "from shutil import move\n",
    "\n",
    "import cv2 as cv\n",
    "import numpy as np\n",
    "import pandas as pd\n",
    "from sahi.slicing import slice_image\n",
    "from sklearn.model_selection import train_test_split\n",
    "from tqdm.notebook import tqdm"
   ]
  },
  {
   "cell_type": "code",
   "execution_count": 2,
   "outputs": [
    {
     "name": "stdout",
     "output_type": "stream",
     "text": [
      "15912\n"
     ]
    },
    {
     "data": {
      "text/plain": "         ImageId                                      EncodedPixels\n0  000155de5.jpg  [264661, 17, 265429, 33, 266197, 33, 266965, 3...\n1  000194a2d.jpg  [360486, 1, 361252, 4, 362019, 5, 362785, 8, 3...\n2  000194a2d.jpg  [51834, 9, 52602, 9, 53370, 9, 54138, 9, 54906...\n3  000194a2d.jpg  [198320, 10, 199088, 10, 199856, 10, 200624, 1...\n4  000194a2d.jpg  [55683, 1, 56451, 1, 57219, 1, 57987, 1, 58755...",
      "text/html": "<div>\n<style scoped>\n    .dataframe tbody tr th:only-of-type {\n        vertical-align: middle;\n    }\n\n    .dataframe tbody tr th {\n        vertical-align: top;\n    }\n\n    .dataframe thead th {\n        text-align: right;\n    }\n</style>\n<table border=\"1\" class=\"dataframe\">\n  <thead>\n    <tr style=\"text-align: right;\">\n      <th></th>\n      <th>ImageId</th>\n      <th>EncodedPixels</th>\n    </tr>\n  </thead>\n  <tbody>\n    <tr>\n      <th>0</th>\n      <td>000155de5.jpg</td>\n      <td>[264661, 17, 265429, 33, 266197, 33, 266965, 3...</td>\n    </tr>\n    <tr>\n      <th>1</th>\n      <td>000194a2d.jpg</td>\n      <td>[360486, 1, 361252, 4, 362019, 5, 362785, 8, 3...</td>\n    </tr>\n    <tr>\n      <th>2</th>\n      <td>000194a2d.jpg</td>\n      <td>[51834, 9, 52602, 9, 53370, 9, 54138, 9, 54906...</td>\n    </tr>\n    <tr>\n      <th>3</th>\n      <td>000194a2d.jpg</td>\n      <td>[198320, 10, 199088, 10, 199856, 10, 200624, 1...</td>\n    </tr>\n    <tr>\n      <th>4</th>\n      <td>000194a2d.jpg</td>\n      <td>[55683, 1, 56451, 1, 57219, 1, 57987, 1, 58755...</td>\n    </tr>\n  </tbody>\n</table>\n</div>"
     },
     "execution_count": 2,
     "metadata": {},
     "output_type": "execute_result"
    }
   ],
   "source": [
    "df_ships = pd.read_csv('../data/train_unique.csv')\n",
    "df_ships['EncodedPixels'] = df_ships['EncodedPixels'].map(lambda it: json.loads(it))\n",
    "print(len(df_ships))\n",
    "df_ships.head()"
   ],
   "metadata": {
    "collapsed": false,
    "ExecuteTime": {
     "end_time": "2023-12-04T19:15:31.852602751Z",
     "start_time": "2023-12-04T19:15:31.516914686Z"
    }
   },
   "id": "fdbb40aa75b2ebfd"
  },
  {
   "cell_type": "code",
   "execution_count": 3,
   "outputs": [
    {
     "data": {
      "text/plain": "8635"
     },
     "execution_count": 3,
     "metadata": {},
     "output_type": "execute_result"
    }
   ],
   "source": [
    "image_name_list = df_ships['ImageId'].unique()\n",
    "len(image_name_list)"
   ],
   "metadata": {
    "collapsed": false,
    "ExecuteTime": {
     "end_time": "2023-12-04T19:15:31.857196750Z",
     "start_time": "2023-12-04T19:15:31.852794048Z"
    }
   },
   "id": "9cb91681a3dc3129"
  },
  {
   "cell_type": "markdown",
   "source": [
    "# Crop"
   ],
   "metadata": {
    "collapsed": false
   },
   "id": "788599ae6a49823b"
  },
  {
   "cell_type": "code",
   "execution_count": 6,
   "outputs": [
    {
     "data": {
      "text/plain": "  0%|          | 0/8635 [00:00<?, ?it/s]",
      "application/vnd.jupyter.widget-view+json": {
       "version_major": 2,
       "version_minor": 0,
       "model_id": "0368e774787f4434b05fe39f63499bbe"
      }
     },
     "metadata": {},
     "output_type": "display_data"
    }
   ],
   "source": [
    "def slice_wrapper(source_image_path, output_dir_path='../data/train_unique_cropped/positive'):\n",
    "    image_name_base, ext = splitext(split(source_image_path)[1])\n",
    "    slice_image(\n",
    "        image=source_image_path,\n",
    "        output_file_name=image_name_base,\n",
    "        output_dir=output_dir_path,\n",
    "        slice_height=128,\n",
    "        slice_width=128,\n",
    "        overlap_height_ratio=0,\n",
    "        overlap_width_ratio=0,\n",
    "        out_ext=ext,\n",
    "    )\n",
    "\n",
    "\n",
    "def run():\n",
    "    for image_name in tqdm(image_name_list):\n",
    "        image_path = glob(f'../data/train/**/{image_name}', recursive=True)[0]\n",
    "        image_name_base = splitext(image_name)[0]\n",
    "        label_path = glob(f'../data/train/**/{image_name_base}.png', recursive=True)[0]\n",
    "        slice_wrapper(image_path)\n",
    "        slice_wrapper(label_path)\n",
    "\n",
    "\n",
    "run()"
   ],
   "metadata": {
    "collapsed": false,
    "ExecuteTime": {
     "end_time": "2023-12-02T10:29:20.836983815Z",
     "start_time": "2023-12-02T09:28:35.829272256Z"
    }
   },
   "id": "bc0275ae619221f7"
  },
  {
   "cell_type": "markdown",
   "source": [
    "# Move empty"
   ],
   "metadata": {
    "collapsed": false
   },
   "id": "12919562f25f7306"
  },
  {
   "cell_type": "code",
   "execution_count": 12,
   "outputs": [
    {
     "data": {
      "text/plain": "  0%|          | 0/274644 [00:00<?, ?it/s]",
      "application/vnd.jupyter.widget-view+json": {
       "version_major": 2,
       "version_minor": 0,
       "model_id": "4e3044497b7a45a8bdfe5d361ef8b8e2"
      }
     },
     "metadata": {},
     "output_type": "display_data"
    }
   ],
   "source": [
    "destination_path = '../data/train_unique_cropped/negative/'\n",
    "for label_path in tqdm(glob('../data/train_unique_cropped/positive/*.png')):\n",
    "    label_image = cv.imread(label_path, 0)\n",
    "    if label_image.max() == 255:\n",
    "        continue\n",
    "\n",
    "    img_path = splitext(label_path)[0] + '.jpg'\n",
    "    move(label_path, destination_path)\n",
    "    move(img_path, destination_path)"
   ],
   "metadata": {
    "collapsed": false,
    "ExecuteTime": {
     "end_time": "2023-12-02T12:12:23.821766796Z",
     "start_time": "2023-12-02T12:09:24.000109977Z"
    }
   },
   "id": "442089cde596180c"
  },
  {
   "cell_type": "markdown",
   "source": [
    "# Convert labels to binary format"
   ],
   "metadata": {
    "collapsed": false
   },
   "id": "2898b5ddee78627d"
  },
  {
   "cell_type": "code",
   "execution_count": 44,
   "outputs": [
    {
     "data": {
      "text/plain": "  0%|          | 0/24718 [00:00<?, ?it/s]",
      "application/vnd.jupyter.widget-view+json": {
       "version_major": 2,
       "version_minor": 0,
       "model_id": "a0684d04362f4dd9b6d6ae3bb22d544b"
      }
     },
     "metadata": {},
     "output_type": "display_data"
    }
   ],
   "source": [
    "source_directory_path = '../data/train_unique_cropped/positive_binary'\n",
    "for label_path in tqdm(glob(join(source_directory_path, f'*.png'))):\n",
    "    img = cv.imread(label_path, 0)\n",
    "    # img = (img / 255).astype(np.uint8)\n",
    "    cv.imwrite(label_path, img)"
   ],
   "metadata": {
    "collapsed": false,
    "ExecuteTime": {
     "end_time": "2023-12-04T20:39:20.024587009Z",
     "start_time": "2023-12-04T20:39:10.040803595Z"
    }
   },
   "id": "97ac664a2cdf22bd"
  },
  {
   "cell_type": "markdown",
   "source": [
    "# Split dataset"
   ],
   "metadata": {
    "collapsed": false
   },
   "id": "d9955b12d3158259"
  },
  {
   "cell_type": "code",
   "execution_count": 4,
   "outputs": [
    {
     "data": {
      "text/plain": "8635"
     },
     "execution_count": 4,
     "metadata": {},
     "output_type": "execute_result"
    }
   ],
   "source": [
    "df_ship_groups = df_ships.groupby(by='ImageId')\n",
    "len(df_ship_groups)"
   ],
   "metadata": {
    "collapsed": false,
    "ExecuteTime": {
     "end_time": "2023-12-04T19:15:38.429186569Z",
     "start_time": "2023-12-04T19:15:38.295152791Z"
    }
   },
   "id": "60590e3895077e2b"
  },
  {
   "cell_type": "code",
   "execution_count": 5,
   "outputs": [
    {
     "data": {
      "text/plain": "  0%|          | 0/8635 [00:00<?, ?it/s]",
      "application/vnd.jupyter.widget-view+json": {
       "version_major": 2,
       "version_minor": 0,
       "model_id": "99d36e22c5c145308f42e3f07349bc6d"
      }
     },
     "metadata": {},
     "output_type": "display_data"
    }
   ],
   "source": [
    "ship_size_image_list = []\n",
    "image_name_list = []\n",
    "for img_id, df_group in tqdm(df_ship_groups):\n",
    "    ship_size_list = []\n",
    "    for idx, row in df_group.iterrows():\n",
    "        ship_size_list.append(\n",
    "            sum(row['EncodedPixels'][1::2])\n",
    "        )\n",
    "    image_name_list.append(img_id)\n",
    "    ship_size_image_list.append(ship_size_list)"
   ],
   "metadata": {
    "collapsed": false,
    "ExecuteTime": {
     "end_time": "2023-12-04T19:15:39.703145085Z",
     "start_time": "2023-12-04T19:15:38.528965461Z"
    }
   },
   "id": "bca3210cb1c75d12"
  },
  {
   "cell_type": "code",
   "execution_count": 6,
   "outputs": [
    {
     "data": {
      "text/plain": "{0, 1, 2, 3, 4}"
     },
     "execution_count": 6,
     "metadata": {},
     "output_type": "execute_result"
    }
   ],
   "source": [
    "# we shouldn't split randomly image names because images could contain ships of very different sizes\n",
    "# we shouldn't split crops based on ship area on them because parts of the same image shouldn't be at different sets (it will be a kind of leakage)\n",
    "\n",
    "ship_class_boundaries = [25, 125, 2500, 7500]\n",
    "\n",
    "\n",
    "def get_ship_class(ship_size):\n",
    "    for idx, class_upper_bound in enumerate(ship_class_boundaries):\n",
    "        if ship_size < class_upper_bound:\n",
    "            return idx\n",
    "\n",
    "    return len(ship_class_boundaries)\n",
    "\n",
    "\n",
    "image_name_list = np.asarray(image_name_list)\n",
    "image_stratification_class = np.asarray([get_ship_class(max(ship_size_list))\n",
    "                                         for ship_size_list in ship_size_image_list])\n",
    "set(image_stratification_class)"
   ],
   "metadata": {
    "collapsed": false,
    "ExecuteTime": {
     "end_time": "2023-12-04T19:15:39.888800290Z",
     "start_time": "2023-12-04T19:15:39.884911393Z"
    }
   },
   "id": "5a9065e2a5225fc3"
  },
  {
   "cell_type": "code",
   "execution_count": 7,
   "outputs": [
    {
     "data": {
      "text/plain": "  0%|          | 0/100 [00:00<?, ?it/s]",
      "application/vnd.jupyter.widget-view+json": {
       "version_major": 2,
       "version_minor": 0,
       "model_id": "95e0742048174962be843598494db06d"
      }
     },
     "metadata": {},
     "output_type": "display_data"
    },
    {
     "ename": "KeyboardInterrupt",
     "evalue": "",
     "output_type": "error",
     "traceback": [
      "\u001B[0;31m---------------------------------------------------------------------------\u001B[0m",
      "\u001B[0;31mKeyboardInterrupt\u001B[0m                         Traceback (most recent call last)",
      "Cell \u001B[0;32mIn[7], line 3\u001B[0m\n\u001B[1;32m      1\u001B[0m crop_count_list \u001B[38;5;241m=\u001B[39m []\n\u001B[1;32m      2\u001B[0m \u001B[38;5;28;01mfor\u001B[39;00m img_name \u001B[38;5;129;01min\u001B[39;00m tqdm(image_name_list[:\u001B[38;5;241m100\u001B[39m]):\n\u001B[0;32m----> 3\u001B[0m     crop_count_list\u001B[38;5;241m.\u001B[39mappend(\u001B[38;5;28mlen\u001B[39m(\u001B[43mglob\u001B[49m\u001B[43m(\u001B[49m\u001B[38;5;124;43mf\u001B[39;49m\u001B[38;5;124;43m'\u001B[39;49m\u001B[38;5;124;43m../data/train_unique_cropped/positive/\u001B[39;49m\u001B[38;5;132;43;01m{\u001B[39;49;00m\u001B[43msplitext\u001B[49m\u001B[43m(\u001B[49m\u001B[43mimg_name\u001B[49m\u001B[43m)\u001B[49m\u001B[43m[\u001B[49m\u001B[38;5;241;43m0\u001B[39;49m\u001B[43m]\u001B[49m\u001B[38;5;132;43;01m}\u001B[39;49;00m\u001B[38;5;124;43m*\u001B[39;49m\u001B[38;5;124;43m'\u001B[39;49m\u001B[43m)\u001B[49m))\n\u001B[1;32m      4\u001B[0m np\u001B[38;5;241m.\u001B[39maverage(crop_count_list)\n",
      "File \u001B[0;32m/mnt/data_linux_unencrypted/airbus_ship_detection/cenv/lib/python3.10/glob.py:24\u001B[0m, in \u001B[0;36mglob\u001B[0;34m(pathname, root_dir, dir_fd, recursive)\u001B[0m\n\u001B[1;32m     13\u001B[0m \u001B[38;5;28;01mdef\u001B[39;00m \u001B[38;5;21mglob\u001B[39m(pathname, \u001B[38;5;241m*\u001B[39m, root_dir\u001B[38;5;241m=\u001B[39m\u001B[38;5;28;01mNone\u001B[39;00m, dir_fd\u001B[38;5;241m=\u001B[39m\u001B[38;5;28;01mNone\u001B[39;00m, recursive\u001B[38;5;241m=\u001B[39m\u001B[38;5;28;01mFalse\u001B[39;00m):\n\u001B[1;32m     14\u001B[0m \u001B[38;5;250m    \u001B[39m\u001B[38;5;124;03m\"\"\"Return a list of paths matching a pathname pattern.\u001B[39;00m\n\u001B[1;32m     15\u001B[0m \n\u001B[1;32m     16\u001B[0m \u001B[38;5;124;03m    The pattern may contain simple shell-style wildcards a la\u001B[39;00m\n\u001B[0;32m   (...)\u001B[0m\n\u001B[1;32m     22\u001B[0m \u001B[38;5;124;03m    zero or more directories and subdirectories.\u001B[39;00m\n\u001B[1;32m     23\u001B[0m \u001B[38;5;124;03m    \"\"\"\u001B[39;00m\n\u001B[0;32m---> 24\u001B[0m     \u001B[38;5;28;01mreturn\u001B[39;00m \u001B[38;5;28;43mlist\u001B[39;49m\u001B[43m(\u001B[49m\u001B[43miglob\u001B[49m\u001B[43m(\u001B[49m\u001B[43mpathname\u001B[49m\u001B[43m,\u001B[49m\u001B[43m \u001B[49m\u001B[43mroot_dir\u001B[49m\u001B[38;5;241;43m=\u001B[39;49m\u001B[43mroot_dir\u001B[49m\u001B[43m,\u001B[49m\u001B[43m \u001B[49m\u001B[43mdir_fd\u001B[49m\u001B[38;5;241;43m=\u001B[39;49m\u001B[43mdir_fd\u001B[49m\u001B[43m,\u001B[49m\u001B[43m \u001B[49m\u001B[43mrecursive\u001B[49m\u001B[38;5;241;43m=\u001B[39;49m\u001B[43mrecursive\u001B[49m\u001B[43m)\u001B[49m\u001B[43m)\u001B[49m\n",
      "File \u001B[0;32m/mnt/data_linux_unencrypted/airbus_ship_detection/cenv/lib/python3.10/glob.py:86\u001B[0m, in \u001B[0;36m_iglob\u001B[0;34m(pathname, root_dir, dir_fd, recursive, dironly)\u001B[0m\n\u001B[1;32m     84\u001B[0m     glob_in_dir \u001B[38;5;241m=\u001B[39m _glob0\n\u001B[1;32m     85\u001B[0m \u001B[38;5;28;01mfor\u001B[39;00m dirname \u001B[38;5;129;01min\u001B[39;00m dirs:\n\u001B[0;32m---> 86\u001B[0m     \u001B[38;5;28;01mfor\u001B[39;00m name \u001B[38;5;129;01min\u001B[39;00m \u001B[43mglob_in_dir\u001B[49m\u001B[43m(\u001B[49m\u001B[43m_join\u001B[49m\u001B[43m(\u001B[49m\u001B[43mroot_dir\u001B[49m\u001B[43m,\u001B[49m\u001B[43m \u001B[49m\u001B[43mdirname\u001B[49m\u001B[43m)\u001B[49m\u001B[43m,\u001B[49m\u001B[43m \u001B[49m\u001B[43mbasename\u001B[49m\u001B[43m,\u001B[49m\u001B[43m \u001B[49m\u001B[43mdir_fd\u001B[49m\u001B[43m,\u001B[49m\u001B[43m \u001B[49m\u001B[43mdironly\u001B[49m\u001B[43m)\u001B[49m:\n\u001B[1;32m     87\u001B[0m         \u001B[38;5;28;01myield\u001B[39;00m os\u001B[38;5;241m.\u001B[39mpath\u001B[38;5;241m.\u001B[39mjoin(dirname, name)\n",
      "File \u001B[0;32m/mnt/data_linux_unencrypted/airbus_ship_detection/cenv/lib/python3.10/glob.py:94\u001B[0m, in \u001B[0;36m_glob1\u001B[0;34m(dirname, pattern, dir_fd, dironly)\u001B[0m\n\u001B[1;32m     93\u001B[0m \u001B[38;5;28;01mdef\u001B[39;00m \u001B[38;5;21m_glob1\u001B[39m(dirname, pattern, dir_fd, dironly):\n\u001B[0;32m---> 94\u001B[0m     names \u001B[38;5;241m=\u001B[39m \u001B[43m_listdir\u001B[49m\u001B[43m(\u001B[49m\u001B[43mdirname\u001B[49m\u001B[43m,\u001B[49m\u001B[43m \u001B[49m\u001B[43mdir_fd\u001B[49m\u001B[43m,\u001B[49m\u001B[43m \u001B[49m\u001B[43mdironly\u001B[49m\u001B[43m)\u001B[49m\n\u001B[1;32m     95\u001B[0m     \u001B[38;5;28;01mif\u001B[39;00m \u001B[38;5;129;01mnot\u001B[39;00m _ishidden(pattern):\n\u001B[1;32m     96\u001B[0m         names \u001B[38;5;241m=\u001B[39m (x \u001B[38;5;28;01mfor\u001B[39;00m x \u001B[38;5;129;01min\u001B[39;00m names \u001B[38;5;28;01mif\u001B[39;00m \u001B[38;5;129;01mnot\u001B[39;00m _ishidden(x))\n",
      "File \u001B[0;32m/mnt/data_linux_unencrypted/airbus_ship_detection/cenv/lib/python3.10/glob.py:164\u001B[0m, in \u001B[0;36m_listdir\u001B[0;34m(dirname, dir_fd, dironly)\u001B[0m\n\u001B[1;32m    162\u001B[0m \u001B[38;5;28;01mdef\u001B[39;00m \u001B[38;5;21m_listdir\u001B[39m(dirname, dir_fd, dironly):\n\u001B[1;32m    163\u001B[0m     \u001B[38;5;28;01mwith\u001B[39;00m contextlib\u001B[38;5;241m.\u001B[39mclosing(_iterdir(dirname, dir_fd, dironly)) \u001B[38;5;28;01mas\u001B[39;00m it:\n\u001B[0;32m--> 164\u001B[0m         \u001B[38;5;28;01mreturn\u001B[39;00m \u001B[38;5;28;43mlist\u001B[39;49m\u001B[43m(\u001B[49m\u001B[43mit\u001B[49m\u001B[43m)\u001B[49m\n",
      "File \u001B[0;32m/mnt/data_linux_unencrypted/airbus_ship_detection/cenv/lib/python3.10/glob.py:149\u001B[0m, in \u001B[0;36m_iterdir\u001B[0;34m(dirname, dir_fd, dironly)\u001B[0m\n\u001B[1;32m    147\u001B[0m \u001B[38;5;28;01mfor\u001B[39;00m entry \u001B[38;5;129;01min\u001B[39;00m it:\n\u001B[1;32m    148\u001B[0m     \u001B[38;5;28;01mtry\u001B[39;00m:\n\u001B[0;32m--> 149\u001B[0m         \u001B[38;5;28;01mif\u001B[39;00m \u001B[38;5;129;01mnot\u001B[39;00m dironly \u001B[38;5;129;01mor\u001B[39;00m entry\u001B[38;5;241m.\u001B[39mis_dir():\n\u001B[1;32m    150\u001B[0m             \u001B[38;5;28;01mif\u001B[39;00m fsencode \u001B[38;5;129;01mis\u001B[39;00m \u001B[38;5;129;01mnot\u001B[39;00m \u001B[38;5;28;01mNone\u001B[39;00m:\n\u001B[1;32m    151\u001B[0m                 \u001B[38;5;28;01myield\u001B[39;00m fsencode(entry\u001B[38;5;241m.\u001B[39mname)\n",
      "\u001B[0;31mKeyboardInterrupt\u001B[0m: "
     ]
    }
   ],
   "source": [
    "crop_count_list = []\n",
    "for img_name in tqdm(image_name_list[:100]):\n",
    "    crop_count_list.append(len(glob(f'../data/train_unique_cropped/positive/{splitext(img_name)[0]}*')))\n",
    "np.average(crop_count_list)"
   ],
   "metadata": {
    "collapsed": false,
    "ExecuteTime": {
     "end_time": "2023-12-03T18:19:35.543381691Z",
     "start_time": "2023-12-03T18:19:32.494859876Z"
    }
   },
   "id": "fdce15560ac7fc8b"
  },
  {
   "cell_type": "code",
   "execution_count": 7,
   "outputs": [
    {
     "data": {
      "text/plain": "(7135, 100, 1400)"
     },
     "execution_count": 7,
     "metadata": {},
     "output_type": "execute_result"
    }
   ],
   "source": [
    "index_list = list(range(len(image_name_list)))\n",
    "image_index_list_train, image_index_list_test = train_test_split(\n",
    "    index_list,\n",
    "    test_size=1500,\n",
    "    random_state=42,\n",
    "    shuffle=True,\n",
    "    stratify=image_stratification_class\n",
    ")\n",
    "image_index_list_val, image_index_list_test = train_test_split(\n",
    "    image_index_list_test,\n",
    "    train_size=100,\n",
    "    random_state=42,\n",
    "    shuffle=True,\n",
    "    stratify=image_stratification_class[image_index_list_test]\n",
    ")\n",
    "\n",
    "image_base_name_list_train = image_name_list[image_index_list_train]\n",
    "image_base_name_list_val = image_name_list[image_index_list_val]\n",
    "image_base_name_list_test = image_name_list[image_index_list_test]\n",
    "len(image_base_name_list_train), len(image_base_name_list_val), len(image_base_name_list_test)"
   ],
   "metadata": {
    "collapsed": false,
    "ExecuteTime": {
     "end_time": "2023-12-04T19:15:48.220022758Z",
     "start_time": "2023-12-04T19:15:48.166641718Z"
    }
   },
   "id": "7adcc55875f1d80c"
  },
  {
   "cell_type": "code",
   "execution_count": 8,
   "outputs": [
    {
     "name": "stdout",
     "output_type": "stream",
     "text": [
      "8635\n"
     ]
    },
    {
     "data": {
      "text/plain": "       file_name dataset\n0  5e4389b28.jpg   train\n1  47d99bdca.jpg   train\n2  8d998e90f.jpg   train\n3  86c9db6ce.jpg   train\n4  087606e41.jpg   train",
      "text/html": "<div>\n<style scoped>\n    .dataframe tbody tr th:only-of-type {\n        vertical-align: middle;\n    }\n\n    .dataframe tbody tr th {\n        vertical-align: top;\n    }\n\n    .dataframe thead th {\n        text-align: right;\n    }\n</style>\n<table border=\"1\" class=\"dataframe\">\n  <thead>\n    <tr style=\"text-align: right;\">\n      <th></th>\n      <th>file_name</th>\n      <th>dataset</th>\n    </tr>\n  </thead>\n  <tbody>\n    <tr>\n      <th>0</th>\n      <td>5e4389b28.jpg</td>\n      <td>train</td>\n    </tr>\n    <tr>\n      <th>1</th>\n      <td>47d99bdca.jpg</td>\n      <td>train</td>\n    </tr>\n    <tr>\n      <th>2</th>\n      <td>8d998e90f.jpg</td>\n      <td>train</td>\n    </tr>\n    <tr>\n      <th>3</th>\n      <td>86c9db6ce.jpg</td>\n      <td>train</td>\n    </tr>\n    <tr>\n      <th>4</th>\n      <td>087606e41.jpg</td>\n      <td>train</td>\n    </tr>\n  </tbody>\n</table>\n</div>"
     },
     "execution_count": 8,
     "metadata": {},
     "output_type": "execute_result"
    }
   ],
   "source": [
    "df_base_file_name_split = pd.DataFrame({\n",
    "    'file_name': np.concatenate((image_base_name_list_train, image_base_name_list_val, image_base_name_list_test)),\n",
    "    'dataset': ['train'] * len(image_base_name_list_train) + ['val'] * len(image_base_name_list_val) + ['test'] * len(\n",
    "        image_base_name_list_test)\n",
    "})\n",
    "print(len(df_base_file_name_split))\n",
    "df_base_file_name_split.head()"
   ],
   "metadata": {
    "collapsed": false,
    "ExecuteTime": {
     "end_time": "2023-12-04T19:15:54.645682382Z",
     "start_time": "2023-12-04T19:15:54.597226839Z"
    }
   },
   "id": "9a624ff91c1f0688"
  },
  {
   "cell_type": "code",
   "execution_count": 9,
   "outputs": [],
   "source": [
    "df_base_file_name_split.to_csv('../data/train_base_file_name_split.csv', index=False)"
   ],
   "metadata": {
    "collapsed": false,
    "ExecuteTime": {
     "end_time": "2023-12-04T19:15:56.695128327Z",
     "start_time": "2023-12-04T19:15:56.673951247Z"
    }
   },
   "id": "d003689d132f3fe6"
  },
  {
   "cell_type": "markdown",
   "source": [
    "# Generate meta"
   ],
   "metadata": {
    "collapsed": false
   },
   "id": "9e356e792b19f28d"
  },
  {
   "cell_type": "code",
   "execution_count": 10,
   "outputs": [
    {
     "data": {
      "text/plain": "       file_name dataset\n0  5e4389b28.jpg   train\n1  47d99bdca.jpg   train\n2  8d998e90f.jpg   train\n3  86c9db6ce.jpg   train\n4  087606e41.jpg   train",
      "text/html": "<div>\n<style scoped>\n    .dataframe tbody tr th:only-of-type {\n        vertical-align: middle;\n    }\n\n    .dataframe tbody tr th {\n        vertical-align: top;\n    }\n\n    .dataframe thead th {\n        text-align: right;\n    }\n</style>\n<table border=\"1\" class=\"dataframe\">\n  <thead>\n    <tr style=\"text-align: right;\">\n      <th></th>\n      <th>file_name</th>\n      <th>dataset</th>\n    </tr>\n  </thead>\n  <tbody>\n    <tr>\n      <th>0</th>\n      <td>5e4389b28.jpg</td>\n      <td>train</td>\n    </tr>\n    <tr>\n      <th>1</th>\n      <td>47d99bdca.jpg</td>\n      <td>train</td>\n    </tr>\n    <tr>\n      <th>2</th>\n      <td>8d998e90f.jpg</td>\n      <td>train</td>\n    </tr>\n    <tr>\n      <th>3</th>\n      <td>86c9db6ce.jpg</td>\n      <td>train</td>\n    </tr>\n    <tr>\n      <th>4</th>\n      <td>087606e41.jpg</td>\n      <td>train</td>\n    </tr>\n  </tbody>\n</table>\n</div>"
     },
     "execution_count": 10,
     "metadata": {},
     "output_type": "execute_result"
    }
   ],
   "source": [
    "df_file_name_split = pd.read_csv('../data/train_base_file_name_split.csv')\n",
    "df_file_name_split.head()"
   ],
   "metadata": {
    "collapsed": false,
    "ExecuteTime": {
     "end_time": "2023-12-04T19:15:57.282386876Z",
     "start_time": "2023-12-04T19:15:57.238867505Z"
    }
   },
   "id": "8c03825a457bc2cb"
  },
  {
   "cell_type": "code",
   "execution_count": 11,
   "outputs": [
    {
     "data": {
      "text/plain": "(7135, 100, 1400)"
     },
     "execution_count": 11,
     "metadata": {},
     "output_type": "execute_result"
    }
   ],
   "source": [
    "image_base_name_list_train = df_file_name_split[df_file_name_split['dataset'] == 'train']['file_name']\n",
    "image_base_name_list_val = df_file_name_split[df_file_name_split['dataset'] == 'val']['file_name']\n",
    "image_base_name_list_test = df_file_name_split[df_file_name_split['dataset'] == 'test']['file_name']\n",
    "len(image_base_name_list_train), len(image_base_name_list_val), len(image_base_name_list_test)"
   ],
   "metadata": {
    "collapsed": false,
    "ExecuteTime": {
     "end_time": "2023-12-04T19:15:58.801106951Z",
     "start_time": "2023-12-04T19:15:58.788363385Z"
    }
   },
   "id": "d2b55d00e574647e"
  },
  {
   "cell_type": "code",
   "execution_count": 12,
   "outputs": [],
   "source": [
    "def image_base_name_to_image_name_list(image_base_name, image_folder_path):\n",
    "    image_base_name, ext = splitext(image_base_name)\n",
    "    path_list = glob(join(image_folder_path, f'{image_base_name}*{ext}'))\n",
    "\n",
    "    return [split(p)[1] for p in path_list]\n",
    "\n",
    "\n",
    "def base_name_list_to_name_list(image_base_name_list, image_folder_path):\n",
    "    return list(chain(*[image_base_name_to_image_name_list(n, image_folder_path)\n",
    "                        for n in tqdm(image_base_name_list)]))\n",
    "\n",
    "\n",
    "def image_path_to_descriptor_line(img_name, path_prefix):\n",
    "    img_path = join(path_prefix, img_name)\n",
    "    img_base_name = splitext(img_name)[0]\n",
    "    label_path = join(path_prefix, f'{img_base_name}.png')\n",
    "\n",
    "    return f'{img_path} {label_path}'\n",
    "\n",
    "def string_list_to_file(string_list, file_path):\n",
    "    lines = [f'{s}\\n' for s in string_list]\n",
    "    with open(file_path, mode='w+') as f:\n",
    "        f.writelines(lines)"
   ],
   "metadata": {
    "collapsed": false,
    "ExecuteTime": {
     "end_time": "2023-12-04T19:15:59.569574060Z",
     "start_time": "2023-12-04T19:15:59.560997877Z"
    }
   },
   "id": "1a05990f76d4b48f"
  },
  {
   "cell_type": "code",
   "execution_count": 15,
   "outputs": [
    {
     "data": {
      "text/plain": "  0%|          | 0/100 [00:00<?, ?it/s]",
      "application/vnd.jupyter.widget-view+json": {
       "version_major": 2,
       "version_minor": 0,
       "model_id": "1a50ce6409af46b789b94b55ae0c2654"
      }
     },
     "metadata": {},
     "output_type": "display_data"
    },
    {
     "data": {
      "text/plain": "  0%|          | 0/7135 [00:00<?, ?it/s]",
      "application/vnd.jupyter.widget-view+json": {
       "version_major": 2,
       "version_minor": 0,
       "model_id": "b9d34aec668745d3b5cff5ade0b4497d"
      }
     },
     "metadata": {},
     "output_type": "display_data"
    }
   ],
   "source": [
    "# PaddlePaddle format\n",
    "image_name_list_test = base_name_list_to_name_list(image_base_name_list_test, '../data/train_unique_cropped/positive')\n",
    "image_descriptor_list = [image_path_to_descriptor_line(image_path, 'positive') for image_path in image_name_list_test]\n",
    "string_list_to_file(image_descriptor_list, '../data/train_unique_cropped/test.txt')\n",
    "\n",
    "image_name_list_val = base_name_list_to_name_list(image_base_name_list_val, '../data/train_unique_cropped/positive')\n",
    "image_descriptor_list = [image_path_to_descriptor_line(image_name_list_val, 'positive') for image_path in image_name_list]\n",
    "string_list_to_file(image_descriptor_list, '../data/train_unique_cropped/val.txt')\n",
    "\n",
    "image_name_list_train = base_name_list_to_name_list(image_base_name_list_train, '../data/train_unique_cropped/positive')\n",
    "image_descriptor_list = [image_path_to_descriptor_line(image_name_list_train, 'positive') for image_path in image_name_list]\n",
    "string_list_to_file(image_descriptor_list, '../data/train_unique_cropped/train.txt')"
   ],
   "metadata": {
    "collapsed": false,
    "ExecuteTime": {
     "end_time": "2023-12-04T19:25:38.945000842Z",
     "start_time": "2023-12-04T19:19:27.302515918Z"
    }
   },
   "id": "3c229fc7b8702c51"
  },
  {
   "cell_type": "code",
   "execution_count": 16,
   "outputs": [
    {
     "data": {
      "text/plain": "  0%|          | 0/1400 [00:00<?, ?it/s]",
      "application/vnd.jupyter.widget-view+json": {
       "version_major": 2,
       "version_minor": 0,
       "model_id": "ed64720e6a2f41c2965733465489e21d"
      }
     },
     "metadata": {},
     "output_type": "display_data"
    },
    {
     "data": {
      "text/plain": "  0%|          | 0/100 [00:00<?, ?it/s]",
      "application/vnd.jupyter.widget-view+json": {
       "version_major": 2,
       "version_minor": 0,
       "model_id": "f6e5d3ae62d64fb5b8aba3cfacc69afb"
      }
     },
     "metadata": {},
     "output_type": "display_data"
    },
    {
     "data": {
      "text/plain": "  0%|          | 0/7135 [00:00<?, ?it/s]",
      "application/vnd.jupyter.widget-view+json": {
       "version_major": 2,
       "version_minor": 0,
       "model_id": "c8b5b39f7d074c7a81eded902ce053c8"
      }
     },
     "metadata": {},
     "output_type": "display_data"
    },
    {
     "data": {
      "text/plain": "(7135, 100, 1400)"
     },
     "execution_count": 16,
     "metadata": {},
     "output_type": "execute_result"
    }
   ],
   "source": [
    "# FastAI format\n",
    "image_name_list_test = base_name_list_to_name_list(image_base_name_list_test, '../data/train_unique_cropped/positive')\n",
    "image_name_list_val = base_name_list_to_name_list(image_base_name_list_val, '../data/train_unique_cropped/positive')\n",
    "image_name_list_train = base_name_list_to_name_list(image_base_name_list_train, '../data/train_unique_cropped/positive')\n",
    "len(image_base_name_list_train), len(image_base_name_list_val), len(image_base_name_list_test)"
   ],
   "metadata": {
    "collapsed": false,
    "ExecuteTime": {
     "end_time": "2023-12-04T19:32:43.509348208Z",
     "start_time": "2023-12-04T19:25:38.988309485Z"
    }
   },
   "id": "8aa66b4acbe194c2"
  },
  {
   "cell_type": "code",
   "execution_count": 27,
   "outputs": [],
   "source": [
    "def add_prefix(path_list, prefix):\n",
    "    return [join(prefix, p) for p in path_list]\n",
    "\n",
    "image_path_list_test = add_prefix(image_name_list_test, 'positive/')\n",
    "image_path_list_val = add_prefix(image_name_list_val, 'positive/')\n",
    "image_path_list_train = add_prefix(image_name_list_train, 'positive/')"
   ],
   "metadata": {
    "collapsed": false,
    "ExecuteTime": {
     "end_time": "2023-12-04T19:53:54.702261094Z",
     "start_time": "2023-12-04T19:53:54.653299507Z"
    }
   },
   "id": "bdebd50713813161"
  },
  {
   "cell_type": "code",
   "execution_count": 28,
   "outputs": [
    {
     "data": {
      "text/plain": "                                file_path dataset\n0  positive/5e4389b28_640_128_768_256.jpg   train\n1  positive/47d99bdca_384_512_512_640.jpg   train\n2  positive/47d99bdca_512_512_640_640.jpg   train\n3  positive/47d99bdca_384_384_512_512.jpg   train\n4  positive/47d99bdca_512_384_640_512.jpg   train",
      "text/html": "<div>\n<style scoped>\n    .dataframe tbody tr th:only-of-type {\n        vertical-align: middle;\n    }\n\n    .dataframe tbody tr th {\n        vertical-align: top;\n    }\n\n    .dataframe thead th {\n        text-align: right;\n    }\n</style>\n<table border=\"1\" class=\"dataframe\">\n  <thead>\n    <tr style=\"text-align: right;\">\n      <th></th>\n      <th>file_path</th>\n      <th>dataset</th>\n    </tr>\n  </thead>\n  <tbody>\n    <tr>\n      <th>0</th>\n      <td>positive/5e4389b28_640_128_768_256.jpg</td>\n      <td>train</td>\n    </tr>\n    <tr>\n      <th>1</th>\n      <td>positive/47d99bdca_384_512_512_640.jpg</td>\n      <td>train</td>\n    </tr>\n    <tr>\n      <th>2</th>\n      <td>positive/47d99bdca_512_512_640_640.jpg</td>\n      <td>train</td>\n    </tr>\n    <tr>\n      <th>3</th>\n      <td>positive/47d99bdca_384_384_512_512.jpg</td>\n      <td>train</td>\n    </tr>\n    <tr>\n      <th>4</th>\n      <td>positive/47d99bdca_512_384_640_512.jpg</td>\n      <td>train</td>\n    </tr>\n  </tbody>\n</table>\n</div>"
     },
     "execution_count": 28,
     "metadata": {},
     "output_type": "execute_result"
    }
   ],
   "source": [
    "df_file_path_split = pd.DataFrame({\n",
    "    'file_path': np.concatenate((image_path_list_train, image_path_list_val, image_path_list_test)),\n",
    "    'dataset': ['train'] * len(image_path_list_train) + ['val'] * len(image_path_list_val) + ['test'] * len(\n",
    "        image_path_list_test)\n",
    "})\n",
    "df_file_path_split.head()"
   ],
   "metadata": {
    "collapsed": false,
    "ExecuteTime": {
     "end_time": "2023-12-04T19:53:55.298988993Z",
     "start_time": "2023-12-04T19:53:55.273110235Z"
    }
   },
   "id": "b6a2815eb53f771"
  },
  {
   "cell_type": "code",
   "execution_count": 29,
   "outputs": [],
   "source": [
    "df_file_path_split.to_csv('../data/train_unique_cropped/file_name_split.csv', index=False)"
   ],
   "metadata": {
    "collapsed": false,
    "ExecuteTime": {
     "end_time": "2023-12-04T19:53:56.641583271Z",
     "start_time": "2023-12-04T19:53:56.600074368Z"
    }
   },
   "id": "c374da9bee524694"
  },
  {
   "cell_type": "markdown",
   "source": [
    "# Copy train and val files"
   ],
   "metadata": {
    "collapsed": false
   },
   "id": "c2b9d62fafe125f2"
  },
  {
   "cell_type": "code",
   "execution_count": 31,
   "outputs": [],
   "source": [
    "import pandas as pd\n",
    "from tqdm.notebook import tqdm\n",
    "from shutil import copy"
   ],
   "metadata": {
    "collapsed": false,
    "ExecuteTime": {
     "end_time": "2023-12-04T19:54:01.841375002Z",
     "start_time": "2023-12-04T19:54:01.815912717Z"
    }
   },
   "id": "939cf77e82762f28"
  },
  {
   "cell_type": "code",
   "execution_count": 32,
   "outputs": [
    {
     "data": {
      "text/plain": "                                file_path dataset\n0  positive/5e4389b28_640_128_768_256.jpg   train\n1  positive/47d99bdca_384_512_512_640.jpg   train\n2  positive/47d99bdca_512_512_640_640.jpg   train\n3  positive/47d99bdca_384_384_512_512.jpg   train\n4  positive/47d99bdca_512_384_640_512.jpg   train",
      "text/html": "<div>\n<style scoped>\n    .dataframe tbody tr th:only-of-type {\n        vertical-align: middle;\n    }\n\n    .dataframe tbody tr th {\n        vertical-align: top;\n    }\n\n    .dataframe thead th {\n        text-align: right;\n    }\n</style>\n<table border=\"1\" class=\"dataframe\">\n  <thead>\n    <tr style=\"text-align: right;\">\n      <th></th>\n      <th>file_path</th>\n      <th>dataset</th>\n    </tr>\n  </thead>\n  <tbody>\n    <tr>\n      <th>0</th>\n      <td>positive/5e4389b28_640_128_768_256.jpg</td>\n      <td>train</td>\n    </tr>\n    <tr>\n      <th>1</th>\n      <td>positive/47d99bdca_384_512_512_640.jpg</td>\n      <td>train</td>\n    </tr>\n    <tr>\n      <th>2</th>\n      <td>positive/47d99bdca_512_512_640_640.jpg</td>\n      <td>train</td>\n    </tr>\n    <tr>\n      <th>3</th>\n      <td>positive/47d99bdca_384_384_512_512.jpg</td>\n      <td>train</td>\n    </tr>\n    <tr>\n      <th>4</th>\n      <td>positive/47d99bdca_512_384_640_512.jpg</td>\n      <td>train</td>\n    </tr>\n  </tbody>\n</table>\n</div>"
     },
     "execution_count": 32,
     "metadata": {},
     "output_type": "execute_result"
    }
   ],
   "source": [
    "df_file_path_split = pd.read_csv('../data/train_unique_cropped/file_name_split.csv')\n",
    "df_file_path_split.head()"
   ],
   "metadata": {
    "collapsed": false,
    "ExecuteTime": {
     "end_time": "2023-12-04T19:54:02.001919294Z",
     "start_time": "2023-12-04T19:54:01.957283025Z"
    }
   },
   "id": "b6446b370f5914fd"
  },
  {
   "cell_type": "code",
   "execution_count": 33,
   "outputs": [
    {
     "data": {
      "text/plain": "  0%|          | 0/24718 [00:00<?, ?it/s]",
      "application/vnd.jupyter.widget-view+json": {
       "version_major": 2,
       "version_minor": 0,
       "model_id": "83099185eeab40b3b012f02d56ab516f"
      }
     },
     "metadata": {},
     "output_type": "display_data"
    }
   ],
   "source": [
    "dataset_path = '../data/train_unique_cropped/'\n",
    "destination_path = '../data/train_unique_cropped/positive_binary/'\n",
    "for path in tqdm(df_file_path_split['file_path']):\n",
    "    path = join(dataset_path, path)\n",
    "    copy(path, destination_path)\n",
    "    copy(splitext(path)[0]+'.png', destination_path)"
   ],
   "metadata": {
    "collapsed": false,
    "ExecuteTime": {
     "end_time": "2023-12-04T19:54:15.804771851Z",
     "start_time": "2023-12-04T19:54:02.941363477Z"
    }
   },
   "id": "fbd5a72b4730999f"
  }
 ],
 "metadata": {
  "kernelspec": {
   "display_name": "Python 3",
   "language": "python",
   "name": "python3"
  },
  "language_info": {
   "codemirror_mode": {
    "name": "ipython",
    "version": 2
   },
   "file_extension": ".py",
   "mimetype": "text/x-python",
   "name": "python",
   "nbconvert_exporter": "python",
   "pygments_lexer": "ipython2",
   "version": "2.7.6"
  }
 },
 "nbformat": 4,
 "nbformat_minor": 5
}
